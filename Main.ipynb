{
 "cells": [
  {
   "cell_type": "markdown",
   "metadata": {},
   "source": [
    "# Training"
   ]
  },
  {
   "cell_type": "code",
   "execution_count": 1,
   "metadata": {},
   "outputs": [],
   "source": [
    "import time\n",
    "from os import listdir\n",
    "import numpy as np\n",
    "import cv2 as cv"
   ]
  },
  {
   "cell_type": "code",
   "execution_count": 2,
   "metadata": {},
   "outputs": [],
   "source": [
    "sample_path = 'Samples/'\n",
    "sample_names = listdir(sample_path)"
   ]
  },
  {
   "cell_type": "code",
   "execution_count": 3,
   "metadata": {},
   "outputs": [],
   "source": [
    "training_data, labels = [], []\n",
    "\n",
    "for (i, sample_name) in enumerate(sample_names):\n",
    "    image_path = sample_path + sample_name\n",
    "    gray = cv.imread(image_path, cv.IMREAD_GRAYSCALE)\n",
    "    \n",
    "    training_data.append(np.array(gray, dtype = np.uint8))\n",
    "    labels.append(i)\n",
    "    \n",
    "training_data = np.array(training_data)\n",
    "labels = np.array(labels, dtype = np.int32)"
   ]
  },
  {
   "cell_type": "code",
   "execution_count": 4,
   "metadata": {},
   "outputs": [
    {
     "data": {
      "text/plain": [
       "2"
      ]
     },
     "execution_count": 4,
     "metadata": {},
     "output_type": "execute_result"
    }
   ],
   "source": [
    "labels[2]"
   ]
  },
  {
   "cell_type": "code",
   "execution_count": 5,
   "metadata": {},
   "outputs": [
    {
     "data": {
      "text/plain": [
       "array([[ 56,  58,  55, ..., 199, 204, 203],\n",
       "       [ 59,  59,  63, ..., 197, 203, 207],\n",
       "       [ 66,  70,  75, ..., 203, 201, 209],\n",
       "       ...,\n",
       "       [204, 206, 205, ..., 188, 188, 189],\n",
       "       [203, 206, 205, ..., 188, 188, 188],\n",
       "       [203, 206, 205, ..., 191, 191, 191]], dtype=uint8)"
      ]
     },
     "execution_count": 5,
     "metadata": {},
     "output_type": "execute_result"
    }
   ],
   "source": [
    "training_data[0]"
   ]
  },
  {
   "cell_type": "code",
   "execution_count": 6,
   "metadata": {},
   "outputs": [],
   "source": [
    "model = cv.face.LBPHFaceRecognizer_create()"
   ]
  },
  {
   "cell_type": "code",
   "execution_count": 7,
   "metadata": {},
   "outputs": [],
   "source": [
    "model.train(training_data, labels)"
   ]
  },
  {
   "cell_type": "markdown",
   "metadata": {},
   "source": [
    "# Detection"
   ]
  },
  {
   "cell_type": "code",
   "execution_count": 8,
   "metadata": {},
   "outputs": [],
   "source": [
    "face_classifier_path = \"haarcascade_frontalface_default.xml\"\n",
    "face_classifier = cv.CascadeClassifier(face_classifier_path)"
   ]
  },
  {
   "cell_type": "code",
   "execution_count": 9,
   "metadata": {},
   "outputs": [],
   "source": [
    "def face_detector(image):\n",
    "    gray = cv.cvtColor(image, cv.COLOR_BGR2GRAY)\n",
    "    faces = face_classifier.detectMultiScale(gray, 1.3, 5)\n",
    "    \n",
    "    if faces is ():\n",
    "        return None\n",
    "    else:\n",
    "        for face in faces:\n",
    "            (x, y, w, h) = face\n",
    "            cv.rectangle(image, (x, y), (x + w, y + h), (255, 50, 50), 2)\n",
    "            roi = image[y : y + h, x : x + w]\n",
    "            resized = cv.resize(roi, (128, 128))\n",
    "        return resized"
   ]
  },
  {
   "cell_type": "code",
   "execution_count": null,
   "metadata": {},
   "outputs": [],
   "source": [
    "device = 0\n",
    "\n",
    "capture = cv.VideoCapture(device)\n",
    "\n",
    "while capture.isOpened():\n",
    "    ret, frame = capture.read()\n",
    "    face = face_detector(frame)\n",
    "    \n",
    "    try:\n",
    "        gray = cv.cvtColor(face, cv.COLOR_BGR2GRAY)\n",
    "        result = model.predict(gray)\n",
    "        confidence = int(result[1])\n",
    "        cv.putText(frame, str(confidence) + '%', (250,250), cv.FONT_HERSHEY_PLAIN, 1, (255, 50, 50), 2)\n",
    "        \n",
    "    except:\n",
    "        cv.putText(frame, 'face not found', (250,250), cv.FONT_HERSHEY_PLAIN, 1, (255, 50, 50), 2)\n",
    "        pass\n",
    "    \n",
    "    cv.imshow('result',frame)\n",
    "    \n",
    "    if cv.waitKey(1) == 13:\n",
    "        break\n",
    "        \n",
    "capture.release()\n",
    "cv.destroyAllWindows()"
   ]
  },
  {
   "cell_type": "code",
   "execution_count": null,
   "metadata": {},
   "outputs": [],
   "source": [
    "capture.release()"
   ]
  },
  {
   "cell_type": "code",
   "execution_count": null,
   "metadata": {},
   "outputs": [],
   "source": []
  }
 ],
 "metadata": {
  "kernelspec": {
   "display_name": "Python [conda env:tensorflow_2] *",
   "language": "python",
   "name": "conda-env-tensorflow_2-py"
  },
  "language_info": {
   "codemirror_mode": {
    "name": "ipython",
    "version": 3
   },
   "file_extension": ".py",
   "mimetype": "text/x-python",
   "name": "python",
   "nbconvert_exporter": "python",
   "pygments_lexer": "ipython3",
   "version": "3.7.9"
  }
 },
 "nbformat": 4,
 "nbformat_minor": 4
}
